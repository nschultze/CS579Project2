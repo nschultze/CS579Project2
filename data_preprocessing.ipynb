{
  "nbformat": 4,
  "nbformat_minor": 0,
  "metadata": {
    "colab": {
      "provenance": [],
      "machine_shape": "hm",
      "mount_file_id": "115igmNqumZ-g8Yn8A05QO4jhrutfq1Wf",
      "authorship_tag": "ABX9TyNkOnWIcGFVKwirBD1Wv3KW",
      "include_colab_link": true
    },
    "kernelspec": {
      "name": "python3",
      "display_name": "Python 3"
    },
    "language_info": {
      "name": "python"
    }
  },
  "cells": [
    {
      "cell_type": "markdown",
      "metadata": {
        "id": "view-in-github",
        "colab_type": "text"
      },
      "source": [
        "<a href=\"https://colab.research.google.com/github/nschultze/CS579Project2/blob/main/data_preprocessing.ipynb\" target=\"_parent\"><img src=\"https://colab.research.google.com/assets/colab-badge.svg\" alt=\"Open In Colab\"/></a>"
      ]
    },
    {
      "cell_type": "code",
      "execution_count": 1,
      "metadata": {
        "id": "fUYfBjECaM1p"
      },
      "outputs": [],
      "source": [
        "import pandas as pd\n",
        "import csv"
      ]
    },
    {
      "cell_type": "code",
      "source": [
        "file_path = '/content/drive/MyDrive/CS579 Dataset/Taxi_Trips__2013-2023__20240501.csv'"
      ],
      "metadata": {
        "id": "d7LuT_eGbL6u"
      },
      "execution_count": 2,
      "outputs": []
    },
    {
      "cell_type": "code",
      "source": [
        "## about 2 mins to read in dataset\n",
        "df = pd.read_csv(file_path)"
      ],
      "metadata": {
        "id": "EBVmi96lbOVh"
      },
      "execution_count": 3,
      "outputs": []
    },
    {
      "cell_type": "code",
      "source": [
        "print(df)"
      ],
      "metadata": {
        "id": "VDujLW_UcMRK",
        "colab": {
          "base_uri": "https://localhost:8080/"
        },
        "outputId": "ff0ae730-16c7-45b7-994b-6be1c3c36d38"
      },
      "execution_count": 4,
      "outputs": [
        {
          "output_type": "stream",
          "name": "stdout",
          "text": [
            "             Trip Start Timestamp  Trip Miles  Pickup Community Area  \\\n",
            "0          12/31/2013 01:00:00 AM         1.1                     76   \n",
            "1          08/27/2013 05:00:00 PM         0.4                      8   \n",
            "2          08/22/2013 02:15:00 PM         0.1                     32   \n",
            "3          08/25/2013 12:45:00 AM         0.1                     32   \n",
            "4          12/31/2013 06:15:00 AM         1.6                      8   \n",
            "...                           ...         ...                    ...   \n",
            "148135766  12/31/2013 12:15:00 AM         0.2                      8   \n",
            "148135767  08/30/2013 08:45:00 AM         1.6                      8   \n",
            "148135768  08/28/2013 09:30:00 AM         0.3                     32   \n",
            "148135769  01/05/2014 12:15:00 AM         4.2                     24   \n",
            "148135770  12/28/2013 10:30:00 PM         2.8                      7   \n",
            "\n",
            "           Dropoff Community Area  \n",
            "0                              28  \n",
            "1                              77  \n",
            "2                              33  \n",
            "3                              33  \n",
            "4                               8  \n",
            "...                           ...  \n",
            "148135766                       6  \n",
            "148135767                       8  \n",
            "148135768                      32  \n",
            "148135769                      31  \n",
            "148135770                      24  \n",
            "\n",
            "[148135771 rows x 4 columns]\n"
          ]
        }
      ]
    },
    {
      "cell_type": "code",
      "source": [
        "print(df['Trip Start Timestamp'])"
      ],
      "metadata": {
        "id": "0rsk9yg_cVX4",
        "colab": {
          "base_uri": "https://localhost:8080/"
        },
        "outputId": "21e7019c-f9b9-420d-b300-c66933aea1d9"
      },
      "execution_count": 5,
      "outputs": [
        {
          "output_type": "stream",
          "name": "stdout",
          "text": [
            "0            12/31/2013 01:00:00 AM\n",
            "1            08/27/2013 05:00:00 PM\n",
            "2            08/22/2013 02:15:00 PM\n",
            "3            08/25/2013 12:45:00 AM\n",
            "4            12/31/2013 06:15:00 AM\n",
            "                      ...          \n",
            "148135766    12/31/2013 12:15:00 AM\n",
            "148135767    08/30/2013 08:45:00 AM\n",
            "148135768    08/28/2013 09:30:00 AM\n",
            "148135769    01/05/2014 12:15:00 AM\n",
            "148135770    12/28/2013 10:30:00 PM\n",
            "Name: Trip Start Timestamp, Length: 148135771, dtype: object\n"
          ]
        }
      ]
    },
    {
      "cell_type": "code",
      "source": [
        "years = ['2013', '2014', '2015', '2016', '2017', '2018', '2019', '2020', '2021', '2022', '2023']"
      ],
      "metadata": {
        "id": "B5mfyBL4eLyx"
      },
      "execution_count": 6,
      "outputs": []
    },
    {
      "cell_type": "code",
      "source": [
        "## about 3 mins to filter per year\n",
        "## 1 min to download without row dropping - about 40 mins\n",
        "\n",
        "## run in about 10 minutes with df row dropping\n",
        "for y in years:\n",
        "  print(f'Filtering df for year {y}')\n",
        "\n",
        "  filtered_df = df[df['Trip Start Timestamp'].str.contains(y, case = False, na = False)]\n",
        "\n",
        "  # get indices of filtered rows\n",
        "  indices_to_drop = filtered_df.index\n",
        "  # remove rows from original for faster processing as we go through each year\n",
        "  df.drop(indices_to_drop, inplace=True)\n",
        "\n",
        "\n",
        "  print(f'Number of trips in {y}: {len(filtered_df)}')\n",
        "  download_path = f'/content/drive/MyDrive/CS579 Dataset/Taxi_Trips_{y}.csv'\n",
        "  print(f'Downloading df as csv to {download_path}')\n",
        "  filtered_df.to_csv(download_path, index=False)\n",
        "\n",
        "\n",
        "  print(f'Completed downloading year {y}.')\n",
        "  print(f'Dropped Rows. New len of df {len(df)}')"
      ],
      "metadata": {
        "id": "g_O5lJmycl_x",
        "colab": {
          "base_uri": "https://localhost:8080/"
        },
        "outputId": "1d97e33f-943e-4530-b992-38f4b02f91c4"
      },
      "execution_count": 7,
      "outputs": [
        {
          "output_type": "stream",
          "name": "stdout",
          "text": [
            "Filtering df for year 2013\n",
            "Number of trips in 2013: 12426730\n",
            "Downloading df as csv to /content/drive/MyDrive/CS579 Dataset/Taxi_Trips_2013.csv\n",
            "Completed downloading year 2013.\n",
            "Dropped Rows. New len of df 135709041\n",
            "Filtering df for year 2014\n",
            "Number of trips in 2014: 25884760\n",
            "Downloading df as csv to /content/drive/MyDrive/CS579 Dataset/Taxi_Trips_2014.csv\n",
            "Completed downloading year 2014.\n",
            "Dropped Rows. New len of df 109824281\n",
            "Filtering df for year 2015\n",
            "Number of trips in 2015: 22737816\n",
            "Downloading df as csv to /content/drive/MyDrive/CS579 Dataset/Taxi_Trips_2015.csv\n",
            "Completed downloading year 2015.\n",
            "Dropped Rows. New len of df 87086465\n",
            "Filtering df for year 2016\n",
            "Number of trips in 2016: 22862110\n",
            "Downloading df as csv to /content/drive/MyDrive/CS579 Dataset/Taxi_Trips_2016.csv\n",
            "Completed downloading year 2016.\n",
            "Dropped Rows. New len of df 64224355\n",
            "Filtering df for year 2017\n",
            "Number of trips in 2017: 19548451\n",
            "Downloading df as csv to /content/drive/MyDrive/CS579 Dataset/Taxi_Trips_2017.csv\n",
            "Completed downloading year 2017.\n",
            "Dropped Rows. New len of df 44675904\n",
            "Filtering df for year 2018\n",
            "Number of trips in 2018: 16448339\n",
            "Downloading df as csv to /content/drive/MyDrive/CS579 Dataset/Taxi_Trips_2018.csv\n",
            "Completed downloading year 2018.\n",
            "Dropped Rows. New len of df 28227565\n",
            "Filtering df for year 2019\n",
            "Number of trips in 2019: 12499509\n",
            "Downloading df as csv to /content/drive/MyDrive/CS579 Dataset/Taxi_Trips_2019.csv\n",
            "Completed downloading year 2019.\n",
            "Dropped Rows. New len of df 15728056\n",
            "Filtering df for year 2020\n",
            "Number of trips in 2020: 2916223\n",
            "Downloading df as csv to /content/drive/MyDrive/CS579 Dataset/Taxi_Trips_2020.csv\n",
            "Completed downloading year 2020.\n",
            "Dropped Rows. New len of df 12811833\n",
            "Filtering df for year 2021\n",
            "Number of trips in 2021: 2853125\n",
            "Downloading df as csv to /content/drive/MyDrive/CS579 Dataset/Taxi_Trips_2021.csv\n",
            "Completed downloading year 2021.\n",
            "Dropped Rows. New len of df 9958708\n",
            "Filtering df for year 2022\n",
            "Number of trips in 2022: 4770186\n",
            "Downloading df as csv to /content/drive/MyDrive/CS579 Dataset/Taxi_Trips_2022.csv\n",
            "Completed downloading year 2022.\n",
            "Dropped Rows. New len of df 5188522\n",
            "Filtering df for year 2023\n",
            "Number of trips in 2023: 5188522\n",
            "Downloading df as csv to /content/drive/MyDrive/CS579 Dataset/Taxi_Trips_2023.csv\n",
            "Completed downloading year 2023.\n",
            "Dropped Rows. New len of df 0\n"
          ]
        }
      ]
    }
  ]
}